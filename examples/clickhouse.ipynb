{
 "cells": [
  {
   "cell_type": "code",
   "execution_count": 1,
   "metadata": {},
   "outputs": [],
   "source": [
    "%CONNECT 1234"
   ]
  },
  {
   "cell_type": "code",
   "execution_count": 2,
   "metadata": {},
   "outputs": [
    {
     "data": {
      "text/html": [
       "<table>\n",
       "<tr>\n",
       "<th>x</th>\n",
       "<th>toTypeName(tuple(1, 'a'))</th>\n",
       "</tr>\n",
       "<tr>\n",
       "<td>(1,'a')</td>\n",
       "<td>Tuple(UInt8, String)</td>\n",
       "</tr>\n",
       "</table>"
      ],
      "text/plain": [
       "+---------+---------------------------+\n",
       "| x       | toTypeName(tuple(1, 'a')) |\n",
       "+---------+---------------------------+\n",
       "| (1,'a') | Tuple(UInt8, String)      |\n",
       "+---------+---------------------------+"
      ]
     },
     "execution_count": 2,
     "metadata": {},
     "output_type": "execute_result"
    }
   ],
   "source": [
    "SELECT tuple(1,'a') AS x, toTypeName(x)"
   ]
  },
  {
   "cell_type": "code",
   "execution_count": null,
   "metadata": {},
   "outputs": [],
   "source": [
    "SELECT toFixedString('foo', 8) AS s"
   ]
  },
  {
   "cell_type": "code",
   "execution_count": null,
   "metadata": {},
   "outputs": [],
   "source": [
    "desc system.query_log"
   ]
  },
  {
   "cell_type": "code",
   "execution_count": null,
   "metadata": {},
   "outputs": [],
   "source": [
    "select initial_address from system.query_log limit 10;"
   ]
  },
  {
   "cell_type": "code",
   "execution_count": null,
   "metadata": {},
   "outputs": [],
   "source": [
    "select * from default.fix_string;"
   ]
  },
  {
   "cell_type": "code",
   "execution_count": null,
   "metadata": {},
   "outputs": [],
   "source": []
  }
 ],
 "metadata": {
  "kernelspec": {
   "display_name": "xclickhouse",
   "language": "clickhouse",
   "name": "xclickhouse"
  },
  "language_info": {
   "codemirror_mode": "sql",
   "file_extension": "",
   "mimetype": "",
   "name": "clickhouse",
   "version": "1.0.0"
  }
 },
 "nbformat": 4,
 "nbformat_minor": 4
}
