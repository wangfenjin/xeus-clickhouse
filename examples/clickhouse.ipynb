{
 "cells": [
  {
   "cell_type": "markdown",
   "metadata": {},
   "source": [
    "# xeus-clickhouse: a Jupyter kernel for Clickhouse"
   ]
  },
  {
   "cell_type": "markdown",
   "metadata": {},
   "source": [
    "## Use `%CONNECT` to connect to the CH server.\n",
    "\n",
    "It supports the client option same as: https://clickhouse.tech/docs/en/interfaces/cli/#command-line-options\n",
    "except `--secure`, `--config-file`, `--params_`.\n",
    "\n",
    "For the format, you can use `html`(default) or `plain`"
   ]
  },
  {
   "cell_type": "code",
   "execution_count": null,
   "metadata": {},
   "outputs": [],
   "source": [
    "%CONNECT --host 127.0.0.1 --port 9000"
   ]
  },
  {
   "cell_type": "markdown",
   "metadata": {},
   "source": [
    "## We should support all kinds of queries!"
   ]
  },
  {
   "cell_type": "code",
   "execution_count": null,
   "metadata": {},
   "outputs": [],
   "source": [
    "SELECT tuple(1,'a') AS x, toTypeName(x)"
   ]
  },
  {
   "cell_type": "code",
   "execution_count": null,
   "metadata": {},
   "outputs": [],
   "source": [
    "desc system.query_log"
   ]
  },
  {
   "cell_type": "code",
   "execution_count": null,
   "metadata": {},
   "outputs": [],
   "source": [
    "select query,event_date,event_time from system.query_log limit 10;"
   ]
  },
  {
   "cell_type": "code",
   "execution_count": null,
   "metadata": {},
   "outputs": [],
   "source": [
    "use system;"
   ]
  },
  {
   "cell_type": "code",
   "execution_count": null,
   "metadata": {
    "scrolled": false
   },
   "outputs": [],
   "source": [
    "select * from metrics;"
   ]
  },
  {
   "cell_type": "markdown",
   "metadata": {},
   "source": [
    "## DML\n",
    "\n",
    "Example from https://clickhouse.tech/docs/en/sql-reference/data-types/uuid/"
   ]
  },
  {
   "cell_type": "code",
   "execution_count": null,
   "metadata": {},
   "outputs": [],
   "source": [
    "drop database test;"
   ]
  },
  {
   "cell_type": "code",
   "execution_count": null,
   "metadata": {},
   "outputs": [],
   "source": [
    "create database test"
   ]
  },
  {
   "cell_type": "code",
   "execution_count": null,
   "metadata": {},
   "outputs": [],
   "source": [
    "use test"
   ]
  },
  {
   "cell_type": "code",
   "execution_count": null,
   "metadata": {},
   "outputs": [],
   "source": [
    "CREATE TABLE t_uuid (x UUID, y String) ENGINE=Memory;"
   ]
  },
  {
   "cell_type": "code",
   "execution_count": null,
   "metadata": {},
   "outputs": [],
   "source": [
    "INSERT INTO t_uuid SELECT generateUUIDv4(), 'Example 1'"
   ]
  },
  {
   "cell_type": "code",
   "execution_count": null,
   "metadata": {},
   "outputs": [],
   "source": [
    "SELECT * FROM t_uuid"
   ]
  },
  {
   "cell_type": "markdown",
   "metadata": {},
   "source": [
    "NOTE: `INSERT INTO t_uuid (y) VALUES ('Example 2');` is not supported because xeus has an issue. Maybe fix later."
   ]
  },
  {
   "cell_type": "markdown",
   "metadata": {},
   "source": [
    "## Output format plain table"
   ]
  },
  {
   "cell_type": "code",
   "execution_count": 2,
   "metadata": {},
   "outputs": [],
   "source": [
    "%CONNECT --host 127.0.0.1 --port 9000 --format plain"
   ]
  },
  {
   "cell_type": "code",
   "execution_count": 4,
   "metadata": {},
   "outputs": [
    {
     "data": {
      "text/plain": [
       "+--------------+-------+-------------------------------------------+\n",
       "| metric       | value | description                               |\n",
       "+--------------+-------+-------------------------------------------+\n",
       "| Query        | 1     | Number of executing queries               |\n",
       "+--------------+-------+-------------------------------------------+\n",
       "| Merge        | 0     | Number of executing background merges     |\n",
       "+--------------+-------+-------------------------------------------+\n",
       "| PartMutation | 0     | Number of mutations (ALTER DELETE/UPDATE) |\n",
       "+--------------+-------+-------------------------------------------+\n",
       "Ok. 3 rows in set. Elapsed: 0.00027sec. Processed: 46 rows, 6,373B (0 rows/s, 0.0B/s)"
      ]
     },
     "execution_count": 4,
     "metadata": {},
     "output_type": "execute_result"
    }
   ],
   "source": [
    "select * from system.metrics limit 3;"
   ]
  },
  {
   "cell_type": "code",
   "execution_count": null,
   "metadata": {},
   "outputs": [],
   "source": []
  }
 ],
 "metadata": {
  "kernelspec": {
   "display_name": "xclickhouse",
   "language": "clickhouse",
   "name": "xclickhouse"
  },
  "language_info": {
   "codemirror_mode": "sql",
   "file_extension": "",
   "mimetype": "",
   "name": "clickhouse",
   "version": "1.0.0"
  }
 },
 "nbformat": 4,
 "nbformat_minor": 4
}
